{
  "nbformat": 4,
  "nbformat_minor": 0,
  "metadata": {
    "colab": {
      "provenance": [],
      "authorship_tag": "ABX9TyPTUQ5scm89K7r8tr6SVEtG",
      "include_colab_link": true
    },
    "kernelspec": {
      "name": "python3",
      "display_name": "Python 3"
    },
    "language_info": {
      "name": "python"
    }
  },
  "cells": [
    {
      "cell_type": "markdown",
      "metadata": {
        "id": "view-in-github",
        "colab_type": "text"
      },
      "source": [
        "<a href=\"https://colab.research.google.com/github/matfuerst/BTE-Matthew-Fuerst/blob/main/Final_In_Cass_Assignment.ipynb\" target=\"_parent\"><img src=\"https://colab.research.google.com/assets/colab-badge.svg\" alt=\"Open In Colab\"/></a>"
      ]
    },
    {
      "cell_type": "code",
      "source": [
        "r=5\n",
        "pi=3.14\n",
        "Area=pi*r**2\n",
        "print(Area)"
      ],
      "metadata": {
        "colab": {
          "base_uri": "https://localhost:8080/"
        },
        "id": "qylpf5b8xETa",
        "outputId": "a558aeaf-ab15-4d88-d12d-8f6ac4356578"
      },
      "execution_count": null,
      "outputs": [
        {
          "output_type": "stream",
          "name": "stdout",
          "text": [
            "78.5\n"
          ]
        }
      ]
    },
    {
      "cell_type": "code",
      "source": [
        "r = 3 # radius of the cirlce\n",
        "h = 10 # number pi\n",
        "pi = 3.14 # height of cylinder\n",
        "\n",
        "# Calculate surface area of cylinder\n",
        "SA = 2*pi*r**2 + 2*pi*r*h\n",
        "\n",
        "#Display area on the screen\n",
        "print(SA)\n"
      ],
      "metadata": {
        "colab": {
          "base_uri": "https://localhost:8080/"
        },
        "id": "_tidBMADyoSl",
        "outputId": "3890d51f-5788-46d6-c9c6-a7b44f3a51e2"
      },
      "execution_count": null,
      "outputs": [
        {
          "output_type": "stream",
          "name": "stdout",
          "text": [
            "244.92000000000002\n"
          ]
        }
      ]
    },
    {
      "cell_type": "code",
      "source": [
        "x=\"Hi\"\n",
        "type(x)"
      ],
      "metadata": {
        "colab": {
          "base_uri": "https://localhost:8080/"
        },
        "id": "Fjc0qHWY2Moy",
        "outputId": "a1af579d-b1d2-4337-ae8d-b0f5b6f4f8be"
      },
      "execution_count": null,
      "outputs": [
        {
          "output_type": "execute_result",
          "data": {
            "text/plain": [
              "str"
            ]
          },
          "metadata": {},
          "execution_count": 8
        }
      ]
    },
    {
      "cell_type": "code",
      "source": [
        "'''\n",
        "first line\n",
        "second line\n",
        "third line\n",
        "...\n",
        "'''"
      ],
      "metadata": {
        "colab": {
          "base_uri": "https://localhost:8080/",
          "height": 35
        },
        "id": "ps1i5HiB7ni4",
        "outputId": "7d135eed-1974-472d-bc84-c92db13b2e6b"
      },
      "execution_count": null,
      "outputs": [
        {
          "output_type": "execute_result",
          "data": {
            "text/plain": [
              "'\\nfirst line\\nsecond line\\nthird line\\n...\\n'"
            ],
            "application/vnd.google.colaboratory.intrinsic+json": {
              "type": "string"
            }
          },
          "metadata": {},
          "execution_count": 9
        }
      ]
    },
    {
      "cell_type": "code",
      "source": [
        "pi = 3.14\n",
        "r = float((input(\"give a value for radius (in ft.): \")))\n",
        "\n",
        "type(r)\n"
      ],
      "metadata": {
        "colab": {
          "base_uri": "https://localhost:8080/"
        },
        "id": "iMmg67srOT6b",
        "outputId": "a3d544ec-8823-4462-bb04-88006f5672c9"
      },
      "execution_count": null,
      "outputs": [
        {
          "name": "stdout",
          "output_type": "stream",
          "text": [
            "give a value for radius (in ft.): 5\n"
          ]
        },
        {
          "output_type": "execute_result",
          "data": {
            "text/plain": [
              "float"
            ]
          },
          "metadata": {},
          "execution_count": 1
        }
      ]
    },
    {
      "cell_type": "code",
      "source": [
        "# input\n",
        "plyr_hand1 = str(input('Player 1 whats your move:  '))\n",
        "\n",
        "plyr_hand2 = str(input('Player 2 whats your move:  '))\n",
        "\n",
        "\n",
        "# process\n",
        "if plyr_hand1 == 'rock' and plyr_hand2 == 'scissors' or plyr_hand1 == 'scissors' and plyr_hand2 == 'paper' or plyr_hand1 == 'paper' and plyr_hand2 == 'rock':\n",
        "  print('Player 1 wins')\n",
        "elif plyr_hand1 == 'rock' and plyr_hand2 == 'paper' or plyr_hand1 == 'scissors' and plyr_hand2 == 'rock' or plyr_hand1 == 'paper' and plyr_hand2 == 'scissors':\n",
        "  print('Player 2 wins')\n",
        "elif plyr_hand1 == plyer_hand2:\n",
        "  print('Draw')"
      ],
      "metadata": {
        "colab": {
          "base_uri": "https://localhost:8080/"
        },
        "id": "uYf7f4YmSOa0",
        "outputId": "ed8357f7-994c-46d5-847a-228df7e499da"
      },
      "execution_count": null,
      "outputs": [
        {
          "output_type": "stream",
          "name": "stdout",
          "text": [
            "Player 1 whats your move:  scissors\n",
            "Player 2 whats your move:  paper\n",
            "Player 1 wins\n"
          ]
        }
      ]
    },
    {
      "cell_type": "code",
      "source": [
        "#In-class assignment\n",
        "p1 = input(\"Choose R, P, S\")\n",
        "p2 = input(\"Choose R, P, S\")\n",
        "\n",
        "if p1 == p2:\n",
        "  print(\"Draw\")\n",
        "elif p1 == \"R\" and p2 == \"S\" or p1 == \"S\" and p2 == \"P\" or p1 == \"P\" and p2 == \"R\":\n",
        "  print(\"Player 1 wins\")\n",
        "else:\n",
        "  print(\"Player 2 wins\")"
      ],
      "metadata": {
        "colab": {
          "base_uri": "https://localhost:8080/"
        },
        "id": "j7gUIbLR4xKn",
        "outputId": "b84ff908-d33b-438b-bddb-4b5f71ec39bb"
      },
      "execution_count": null,
      "outputs": [
        {
          "output_type": "stream",
          "name": "stdout",
          "text": [
            "Choose R, P, SR\n",
            "Choose R, P, SS\n",
            "Player 1 wins\n"
          ]
        }
      ]
    },
    {
      "cell_type": "code",
      "source": [
        "n1 = float(input(\"Choose first number\"))\n",
        "n2 = float(input(\"Choose second number\"))\n",
        "symbol = input(\"Choose a symbol\")\n",
        "if symbol == \"+\":\n",
        "  print(n1 + n2)\n",
        "elif symbol == \"-\":\n",
        "  print(n1 - n2)\n",
        "elif symbol == \"*\":\n",
        "  print(n1 * n2)\n",
        "elif symbol == \"/\":\n",
        "  print(n1 / n2)\n",
        "else:\n",
        "  print(\"Invalid symbol\")\n"
      ],
      "metadata": {
        "colab": {
          "base_uri": "https://localhost:8080/"
        },
        "id": "MAVFtXo59lUD",
        "outputId": "16507773-5d29-4a70-c3d7-b8cec85d9583"
      },
      "execution_count": null,
      "outputs": [
        {
          "output_type": "stream",
          "name": "stdout",
          "text": [
            "Choose first number8\n",
            "Choose second number2\n",
            "Choose a symbol-\n",
            "6.0\n"
          ]
        }
      ]
    },
    {
      "cell_type": "code",
      "source": [
        "flat = 5"
      ],
      "metadata": {
        "id": "3kVytGcNK_kr"
      },
      "execution_count": null,
      "outputs": []
    },
    {
      "cell_type": "code",
      "source": [
        "for t in range(1, 9):\n",
        "  charge = flat + 2.5 * t\n",
        "  if charge < 10:\n",
        "    charge = 10\n",
        "  elif charge > 20:\n",
        "    charge = 20\n",
        "  print(t, charge)"
      ],
      "metadata": {
        "colab": {
          "base_uri": "https://localhost:8080/"
        },
        "id": "twpwGY70KmmT",
        "outputId": "dc5b0314-de67-4ed5-cfb6-e96768df492f"
      },
      "execution_count": null,
      "outputs": [
        {
          "output_type": "stream",
          "name": "stdout",
          "text": [
            "1 10\n",
            "2 10.0\n",
            "3 12.5\n",
            "4 15.0\n",
            "5 17.5\n",
            "6 20.0\n",
            "7 20\n",
            "8 20\n"
          ]
        }
      ]
    },
    {
      "cell_type": "code",
      "source": [
        "ticket = 10 #In-Class assignment\n",
        "fixed = 200\n",
        "for ad in range(0, 201, 25):\n",
        "  profit = 10 * (20 + 2 * round(ad ** .5)) - fixed - ad\n",
        "  print(ad, profit)\n"
      ],
      "metadata": {
        "colab": {
          "base_uri": "https://localhost:8080/"
        },
        "id": "jzsv-puFNLNx",
        "outputId": "459f80fa-1464-4dbc-baf4-4caec2f67105"
      },
      "execution_count": null,
      "outputs": [
        {
          "output_type": "stream",
          "name": "stdout",
          "text": [
            "0 0\n",
            "25 75\n",
            "50 90\n",
            "75 105\n",
            "100 100\n",
            "125 95\n",
            "150 90\n",
            "175 85\n",
            "200 80\n"
          ]
        }
      ]
    },
    {
      "cell_type": "code",
      "source": [
        "ticket = 10 #In-Class Assignment\n",
        "fixed = 200\n",
        "attendees = 20\n",
        "\n",
        "ad = 0\n",
        "while ad < 201:\n",
        "  profit = 10 * (attendees + 2 * round(ad ** .5)) - fixed - ad\n",
        "  print(ad, profit)\n",
        "  ad = ad + 25\n"
      ],
      "metadata": {
        "colab": {
          "base_uri": "https://localhost:8080/"
        },
        "id": "GrNiSckeR4UP",
        "outputId": "f0869ac8-648d-4e99-ec70-73efedc90485"
      },
      "execution_count": null,
      "outputs": [
        {
          "output_type": "stream",
          "name": "stdout",
          "text": [
            "0 0\n",
            "25 75\n",
            "50 90\n",
            "75 105\n",
            "100 100\n",
            "125 95\n",
            "150 90\n",
            "175 85\n",
            "200 80\n"
          ]
        }
      ]
    },
    {
      "cell_type": "code",
      "source": [
        "#first method\n",
        "#start with empty list, ask users to provide numerical number,\n",
        "#then this number will be added to the list. This proccess is repeated, until users enters 0\n",
        "L = []\n",
        "while True:\n",
        "  num = float(input(\"Enter a number: \"))\n",
        "  L.append(num)\n",
        "  print(L)\n",
        "  if num == 0:\n",
        "    break\n"
      ],
      "metadata": {
        "colab": {
          "base_uri": "https://localhost:8080/"
        },
        "collapsed": true,
        "id": "7_KRAWmSVqE6",
        "outputId": "5021a9c0-1b2a-4b4d-ce2e-671fa725719b"
      },
      "execution_count": null,
      "outputs": [
        {
          "output_type": "stream",
          "name": "stdout",
          "text": [
            "Enter a number: 4\n",
            "[4.0]\n",
            "Enter a number: 5\n",
            "[4.0, 5.0]\n",
            "Enter a number: 6\n",
            "[4.0, 5.0, 6.0]\n",
            "Enter a number: 0\n",
            "[4.0, 5.0, 6.0, 0.0]\n"
          ]
        }
      ]
    },
    {
      "cell_type": "code",
      "source": [
        "#second method\n",
        "L = []\n",
        "\n",
        "item = int(input('Give a value: '))\n",
        "while item !=0:\n",
        "  L.append(item)\n",
        "  item = int(input('Give another value: '))\n",
        "print(L)"
      ],
      "metadata": {
        "colab": {
          "base_uri": "https://localhost:8080/"
        },
        "id": "7qQ1SBb8azoW",
        "outputId": "ada2a844-ac84-40d4-805d-6a1d6341f629"
      },
      "execution_count": null,
      "outputs": [
        {
          "output_type": "stream",
          "name": "stdout",
          "text": [
            "Give a value: 4\n",
            "Give another value: 6\n",
            "Give another value: 2\n",
            "Give another value: 9\n",
            "Give another value: 0\n",
            "[4, 6, 2, 9]\n"
          ]
        }
      ]
    },
    {
      "cell_type": "code",
      "source": [
        "months = {}\n",
        "\n",
        "names = ['Jan', 'Feb', 'Mar', 'Apr', 'May', 'Jun', 'Jul', 'Aug', 'Sep', 'Oct', 'Nov', 'Dec']\n",
        "\n",
        "numbers = [1, 2, 3, 4, 5, 6, 7, 8, 9, 10, 11, 12]\n",
        "\n",
        "for i in range(len(numbers)):\n",
        "  months[numbers[i]] = names[i]\n",
        "\n",
        "print(months)"
      ],
      "metadata": {
        "colab": {
          "base_uri": "https://localhost:8080/"
        },
        "id": "EqUgIfQpFc2-",
        "outputId": "be0d3715-cd31-47b2-9246-b7dbb38bd2b3"
      },
      "execution_count": null,
      "outputs": [
        {
          "output_type": "stream",
          "name": "stdout",
          "text": [
            "{1: 'Jan', 2: 'Feb', 3: 'Mar', 4: 'Apr', 5: 'May', 6: 'Jun', 7: 'Jul', 8: 'Aug', 9: 'Sep', 10: 'Oct', 11: 'Nov', 12: 'Dec'}\n"
          ]
        }
      ]
    },
    {
      "cell_type": "code",
      "source": [
        "def rv(s):\n",
        "    if len(s) == 1:\n",
        "        return s\n",
        "    else:\n",
        "        return s[-1] + rv(s[:len(s)-1])\n",
        "\n",
        "rv('Hello')\n"
      ],
      "metadata": {
        "colab": {
          "base_uri": "https://localhost:8080/",
          "height": 35
        },
        "id": "4Q18wYOMUkjr",
        "outputId": "212738c7-363c-4195-82fc-91ad0117a2f9"
      },
      "execution_count": null,
      "outputs": [
        {
          "output_type": "execute_result",
          "data": {
            "text/plain": [
              "'olleH'"
            ],
            "application/vnd.google.colaboratory.intrinsic+json": {
              "type": "string"
            }
          },
          "metadata": {},
          "execution_count": 8
        }
      ]
    },
    {
      "cell_type": "code",
      "source": [
        "class Student:\n",
        "  def __init__(self, name, number):\n",
        "    self.name = name\n",
        "    self.number = number\n",
        "\n",
        "s1 = Student(\"James Bond\", \"007\")\n",
        "s2 = Student('Clark Kent', '333')\n",
        "\n",
        "s1.name\n",
        "\n"
      ],
      "metadata": {
        "colab": {
          "base_uri": "https://localhost:8080/",
          "height": 35
        },
        "id": "Paa1Ftkqnv6V",
        "outputId": "a5eda5d9-d5ec-4538-c4fe-dc3743907d74"
      },
      "execution_count": null,
      "outputs": [
        {
          "output_type": "execute_result",
          "data": {
            "text/plain": [
              "'James Bond'"
            ],
            "application/vnd.google.colaboratory.intrinsic+json": {
              "type": "string"
            }
          },
          "metadata": {},
          "execution_count": 4
        }
      ]
    },
    {
      "cell_type": "code",
      "source": [
        "class Coordinate:\n",
        "  def __init__(self, x, y):\n",
        "    self.x = x\n",
        "    self.y = y\n",
        "\n",
        "  def distance(self, other):\n",
        "    dist = ((self.x - other.x) ** 2 + (self.y - other.y) ** 2) ** 0.05\n",
        "    return dist"
      ],
      "metadata": {
        "id": "t2rKdLsStYFn"
      },
      "execution_count": null,
      "outputs": []
    }
  ]
}